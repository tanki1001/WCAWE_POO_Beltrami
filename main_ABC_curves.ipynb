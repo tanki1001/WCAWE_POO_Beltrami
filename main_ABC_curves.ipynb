{
 "cells": [
  {
   "cell_type": "code",
   "execution_count": 1,
   "id": "2ed38311-03bc-46ad-b34e-da730b27a924",
   "metadata": {},
   "outputs": [],
   "source": [
    "import numpy as np\n",
    "from scipy import special\n",
    "from geometries import cubic_domain, spherical_domain, half_cubic_domain, broken_cubic_domain\n",
    "from postprocess import relative_errZ,import_FOM_result\n",
    "from dolfinx.fem import (form, Function, FunctionSpace, petsc)\n",
    "import petsc4py\n",
    "from petsc4py import PETSc\n",
    "import matplotlib.pyplot as plt\n",
    "from time import time\n",
    "from tqdm import tqdm\n"
   ]
  },
  {
   "cell_type": "code",
   "execution_count": 2,
   "id": "40224f74-546d-45bc-b6c3-5cdb1a2b59bc",
   "metadata": {
    "editable": true,
    "slideshow": {
     "slide_type": ""
    },
    "tags": []
   },
   "outputs": [],
   "source": [
    "from operators_POO import Mesh, B1p, Loading, Simulation, import_frequency_sweep\n",
    "\n",
    "geometry1 = 'cubic'\n",
    "geometry2 = 'small'\n",
    "geometry  = geometry1 + '_'+ geometry2\n",
    "\n",
    "if   geometry2 == 'small':\n",
    "    side_box = 0.11\n",
    "    lc       = 8e-3\n",
    "elif geometry2 == 'large':\n",
    "    side_box = 0.40\n",
    "    lc       = 2e-2\n",
    "else :\n",
    "    print(\"Enter your own side_box and mesh size in the code\")\n",
    "    side_box = 0.40\n",
    "    lc       = 1e-2 #Typical mesh size : Small case : 8e-3 Large case : 2e-2\n",
    "\n",
    "from_data_b1p = True\n",
    "from_data_b2p = True\n",
    "\n",
    "radius = 0.1\n",
    "\n",
    "rho0 = 1.21\n",
    "c0   = 343.8\n",
    "\n",
    "freqvec = np.arange(80, 2001, 20)"
   ]
  },
  {
   "cell_type": "code",
   "execution_count": 3,
   "id": "9b543721-567d-469d-a1e8-0d024b38d781",
   "metadata": {},
   "outputs": [],
   "source": [
    "from operators_POO import import_COMSOL_result\n",
    "\n",
    "comsol_data = True\n",
    "\n",
    "if comsol_data:\n",
    "    s = geometry\n",
    "    frequency, results = import_COMSOL_result(s)"
   ]
  },
  {
   "cell_type": "code",
   "execution_count": 4,
   "id": "a0047c3f-b931-4ee5-a3c6-ce9d45bc7630",
   "metadata": {},
   "outputs": [
    {
     "name": "stdout",
     "output_type": "stream",
     "text": [
      "Info    : Meshing 1D...\n",
      "Info    : [  0%] Meshing curve 1 (Line)\n",
      "Info    : [ 10%] Meshing curve 2 (Line)\n",
      "Info    : [ 20%] Meshing curve 3 (Line)\n",
      "Info    : [ 20%] Meshing curve 4 (Line)\n",
      "Info    : [ 30%] Meshing curve 5 (Line)\n",
      "Info    : [ 40%] Meshing curve 6 (Line)\n",
      "Info    : [ 40%] Meshing curve 7 (Line)\n",
      "Info    : [ 50%] Meshing curve 8 (Line)\n",
      "Info    : [ 60%] Meshing curve 9 (Line)\n",
      "Info    : [ 60%] Meshing curve 10 (Line)\n",
      "Info    : [ 70%] Meshing curve 11 (Line)\n",
      "Info    : [ 80%] Meshing curve 12 (Line)\n",
      "Info    : [ 80%] Meshing curve 13 (Line)\n",
      "Info    : [ 90%] Meshing curve 14 (Line)\n",
      "Info    : [100%] Meshing curve 15 (Circle)\n",
      "Info    : Done meshing 1D (Wall 0.00282875s, CPU 0.00355s)\n",
      "Info    : Meshing 2D...\n",
      "Info    : [  0%] Meshing surface 1 (Plane, Frontal-Delaunay)\n",
      "Info    : [ 20%] Meshing surface 2 (Plane, Frontal-Delaunay)\n",
      "Info    : [ 30%] Meshing surface 3 (Plane, Frontal-Delaunay)\n",
      "Info    : [ 50%] Meshing surface 4 (Plane, Frontal-Delaunay)\n",
      "Info    : [ 60%] Meshing surface 5 (Plane, Frontal-Delaunay)\n",
      "Info    : [ 80%] Meshing surface 6 (Plane, Frontal-Delaunay)\n",
      "Info    : [ 90%] Meshing surface 7 (Plane, Frontal-Delaunay)\n",
      "Info    : Done meshing 2D (Wall 0.0349863s, CPU 0.035183s)\n",
      "Info    : Meshing 3D...\n",
      "Info    : 3D Meshing 1 volume with 1 connected component\n",
      "Info    : Tetrahedrizing 1421 nodes...\n",
      "Info    : Done tetrahedrizing 1429 nodes (Wall 0.0108801s, CPU 0.010898s)\n",
      "Info    : Reconstructing mesh...\n",
      "Info    :  - Creating surface mesh\n",
      "Info    :  - Identifying boundary edges\n",
      "Info    :  - Recovering boundary\n",
      "Info    : Done reconstructing mesh (Wall 0.0267505s, CPU 0.025076s)\n",
      "Info    : Found volume 1\n",
      "Info    : It. 0 - 0 nodes created - worst tet radius 7.02905 (nodes removed 0 0)\n",
      "Info    : It. 500 - 500 nodes created - worst tet radius 1.33912 (nodes removed 0 0)\n",
      "Info    : It. 1000 - 1000 nodes created - worst tet radius 1.09455 (nodes removed 0 0)\n",
      "Info    : 3D refinement terminated (2795 nodes total):\n",
      "Info    :  - 0 Delaunay cavities modified for star shapeness\n",
      "Info    :  - 0 nodes could not be inserted\n",
      "Info    :  - 12913 tetrahedra created in 0.0350328 sec. (368597 tets/s)\n",
      "Info    : Done meshing 3D (Wall 0.0844655s, CPU 0.079919s)\n",
      "Info    : Optimizing mesh...\n",
      "Info    : Optimizing volume 1\n",
      "Info    : Optimization starts (volume = 0.001331) with worst = 0.0155987 / average = 0.775323:\n",
      "Info    : 0.00 < quality < 0.10 :        30 elements\n",
      "Info    : 0.10 < quality < 0.20 :        78 elements\n",
      "Info    : 0.20 < quality < 0.30 :       153 elements\n",
      "Info    : 0.30 < quality < 0.40 :       207 elements\n",
      "Info    : 0.40 < quality < 0.50 :       313 elements\n",
      "Info    : 0.50 < quality < 0.60 :       599 elements\n",
      "Info    : 0.60 < quality < 0.70 :      1501 elements\n",
      "Info    : 0.70 < quality < 0.80 :      3173 elements\n",
      "Info    : 0.80 < quality < 0.90 :      4566 elements\n",
      "Info    : 0.90 < quality < 1.00 :      2292 elements\n",
      "Info    : 257 edge swaps, 12 node relocations (volume = 0.001331): worst = 0.25656 / average = 0.787477 (Wall 0.00395713s, CPU 0.004016s)\n",
      "Info    : 262 edge swaps, 13 node relocations (volume = 0.001331): worst = 0.257941 / average = 0.787696 (Wall 0.00461183s, CPU 0.004688s)\n",
      "Info    : 263 edge swaps, 13 node relocations (volume = 0.001331): worst = 0.300588 / average = 0.787737 (Wall 0.00512271s, CPU 0.005215s)\n",
      "Info    : No ill-shaped tets in the mesh :-)\n",
      "Info    : 0.00 < quality < 0.10 :         0 elements\n",
      "Info    : 0.10 < quality < 0.20 :         0 elements\n",
      "Info    : 0.20 < quality < 0.30 :         0 elements\n",
      "Info    : 0.30 < quality < 0.40 :       205 elements\n",
      "Info    : 0.40 < quality < 0.50 :       298 elements\n",
      "Info    : 0.50 < quality < 0.60 :       604 elements\n",
      "Info    : 0.60 < quality < 0.70 :      1497 elements\n",
      "Info    : 0.70 < quality < 0.80 :      3182 elements\n",
      "Info    : 0.80 < quality < 0.90 :      4612 elements\n",
      "Info    : 0.90 < quality < 1.00 :      2283 elements\n",
      "Info    : Done optimizing mesh (Wall 0.0119301s, CPU 0.012116s)\n",
      "Info    : 2795 nodes 15720 elements\n",
      "Info    : Writing 'no_name.msh'...\n",
      "Info    : Done writing 'no_name.msh'\n",
      "entity_map : <class 'list'>\n"
     ]
    },
    {
     "ename": "ValueError",
     "evalue": "2 is not in list",
     "output_type": "error",
     "traceback": [
      "\u001b[0;31m---------------------------------------------------------------------------\u001b[0m",
      "\u001b[0;31mValueError\u001b[0m                                Traceback (most recent call last)",
      "Cell \u001b[0;32mIn[4], line 12\u001b[0m\n\u001b[1;32m      9\u001b[0m \u001b[38;5;28;01melse\u001b[39;00m :\n\u001b[1;32m     10\u001b[0m     \u001b[38;5;28mprint\u001b[39m(\u001b[38;5;124m\"\u001b[39m\u001b[38;5;124mWARNING : May you choose an implemented geometry\u001b[39m\u001b[38;5;124m\"\u001b[39m)\n\u001b[0;32m---> 12\u001b[0m mesh_   \u001b[38;5;241m=\u001b[39m \u001b[43mMesh\u001b[49m\u001b[43m(\u001b[49m\u001b[38;5;241;43m1\u001b[39;49m\u001b[43m,\u001b[49m\u001b[43m \u001b[49m\u001b[43mside_box\u001b[49m\u001b[43m,\u001b[49m\u001b[43m \u001b[49m\u001b[43mradius\u001b[49m\u001b[43m,\u001b[49m\u001b[43m \u001b[49m\u001b[43mlc\u001b[49m\u001b[43m,\u001b[49m\u001b[43m \u001b[49m\u001b[43mgeo_fct\u001b[49m\u001b[43m)\u001b[49m\n\u001b[1;32m     13\u001b[0m loading \u001b[38;5;241m=\u001b[39m Loading(mesh_)\n",
      "File \u001b[0;32m~/WCAWE_POO_Beltrami/operators_POO.py:58\u001b[0m, in \u001b[0;36mMesh.__init__\u001b[0;34m(self, deg, side_box, radius, lc, geometry, model_name)\u001b[0m\n\u001b[1;32m     43\u001b[0m \u001b[38;5;250m\u001b[39m\u001b[38;5;124;03m'''\u001b[39;00m\n\u001b[1;32m     44\u001b[0m \u001b[38;5;124;03mConstructor of the class Mesh. A Mesh is created from a function implemented in the module geometries. This class is not perfect, it only implements geometries of this case.\u001b[39;00m\n\u001b[1;32m     45\u001b[0m \u001b[38;5;124;03minput : \u001b[39;00m\n\u001b[0;32m   (...)\u001b[0m\n\u001b[1;32m     54\u001b[0m \n\u001b[1;32m     55\u001b[0m \u001b[38;5;124;03m'''\u001b[39;00m\n\u001b[1;32m     56\u001b[0m \u001b[38;5;28mself\u001b[39m\u001b[38;5;241m.\u001b[39mdeg \u001b[38;5;241m=\u001b[39m deg\n\u001b[0;32m---> 58\u001b[0m mesh_info, submesh_info \u001b[38;5;241m=\u001b[39m \u001b[43mgeometry\u001b[49m\u001b[43m(\u001b[49m\u001b[43mside_box\u001b[49m\u001b[43m,\u001b[49m\u001b[43m \u001b[49m\u001b[43mradius\u001b[49m\u001b[43m,\u001b[49m\u001b[43m \u001b[49m\u001b[43mlc\u001b[49m\u001b[43m,\u001b[49m\u001b[43m \u001b[49m\u001b[43mmodel_name\u001b[49m\u001b[43m)\u001b[49m\n\u001b[1;32m     60\u001b[0m \u001b[38;5;28mself\u001b[39m\u001b[38;5;241m.\u001b[39mmesh         \u001b[38;5;241m=\u001b[39m mesh_info[\u001b[38;5;241m0\u001b[39m]\n\u001b[1;32m     61\u001b[0m \u001b[38;5;28mself\u001b[39m\u001b[38;5;241m.\u001b[39mmesh_tags    \u001b[38;5;241m=\u001b[39m mesh_info[\u001b[38;5;241m1\u001b[39m]\n",
      "File \u001b[0;32m~/WCAWE_POO_Beltrami/geometries.py:113\u001b[0m, in \u001b[0;36mcubic_domain\u001b[0;34m(side_box, radius, lc, model_name)\u001b[0m\n\u001b[1;32m    111\u001b[0m mesh_num_facets \u001b[38;5;241m=\u001b[39m mesh_facet_imap\u001b[38;5;241m.\u001b[39msize_local \u001b[38;5;241m+\u001b[39m mesh_facet_imap\u001b[38;5;241m.\u001b[39mnum_ghosts\n\u001b[1;32m    112\u001b[0m \u001b[38;5;28mprint\u001b[39m(\u001b[38;5;124mf\u001b[39m\u001b[38;5;124m\"\u001b[39m\u001b[38;5;124mentity_map : \u001b[39m\u001b[38;5;132;01m{\u001b[39;00m\u001b[38;5;28mtype\u001b[39m(entity_map)\u001b[38;5;132;01m}\u001b[39;00m\u001b[38;5;124m\"\u001b[39m)\n\u001b[0;32m--> 113\u001b[0m \u001b[38;5;28mprint\u001b[39m(\u001b[38;5;124mf\u001b[39m\u001b[38;5;124m\"\u001b[39m\u001b[38;5;124mentity_map.index(2) : \u001b[39m\u001b[38;5;132;01m{\u001b[39;00m\u001b[43mentity_map\u001b[49m\u001b[38;5;241;43m.\u001b[39;49m\u001b[43mindex\u001b[49m\u001b[43m(\u001b[49m\u001b[38;5;241;43m2\u001b[39;49m\u001b[43m)\u001b[49m\u001b[38;5;132;01m}\u001b[39;00m\u001b[38;5;124m\"\u001b[39m)\n\u001b[1;32m    114\u001b[0m entity_maps_mesh \u001b[38;5;241m=\u001b[39m {submesh: [entity_map\u001b[38;5;241m.\u001b[39mindex(entity)\n\u001b[1;32m    115\u001b[0m                                 \u001b[38;5;28;01mif\u001b[39;00m entity \u001b[38;5;129;01min\u001b[39;00m entity_map \u001b[38;5;28;01melse\u001b[39;00m \u001b[38;5;241m-\u001b[39m\u001b[38;5;241m1\u001b[39m\n\u001b[1;32m    116\u001b[0m                                 \u001b[38;5;28;01mfor\u001b[39;00m entity \u001b[38;5;129;01min\u001b[39;00m \u001b[38;5;28mrange\u001b[39m(mesh_num_facets)]}\n\u001b[1;32m    120\u001b[0m mesh_info \u001b[38;5;241m=\u001b[39m [final_mesh, cell_tags, facet_tags, xref]\n",
      "\u001b[0;31mValueError\u001b[0m: 2 is not in list"
     ]
    }
   ],
   "source": [
    "if   geometry1 == 'cubic':\n",
    "    geo_fct = cubic_domain\n",
    "elif geometry1 == 'spherical':\n",
    "    geo_fct = spherical_domain\n",
    "elif geometry1 == 'half_cubic':\n",
    "    geo_fct = half_cubic_domain\n",
    "elif geometry1 == 'broken_cubic':\n",
    "    geo_fct = broken_cubic_domain\n",
    "else :\n",
    "    print(\"WARNING : May you choose an implemented geometry\")\n",
    "\n",
    "mesh_   = Mesh(1, side_box, radius, lc, geo_fct)\n",
    "loading = Loading(mesh_)"
   ]
  },
  {
   "cell_type": "code",
   "execution_count": null,
   "id": "999a2cf5-af96-4b93-8292-537fdcebd560",
   "metadata": {},
   "outputs": [],
   "source": [
    "from operators_POO import B1p\n",
    "ope1           = B1p(mesh_)\n",
    "list_coeff_Z_j = ope1.deriv_coeff_Z(0)\n",
    "simu1 = Simulation(mesh_, ope1, loading)"
   ]
  },
  {
   "cell_type": "code",
   "execution_count": null,
   "id": "ccc14609-2085-45a5-a4ba-fe040b252878",
   "metadata": {
    "editable": true,
    "slideshow": {
     "slide_type": ""
    },
    "tags": []
   },
   "outputs": [],
   "source": [
    "from operators_POO import store_results\n",
    "#ope1.import_matrix(freq = 2000)\n",
    "if from_data_b1p:\n",
    "    s1 = 'FOM_b1p'\n",
    "    s = s1 + '_' + geometry\n",
    "    freqvec1, PavFOM1 = import_frequency_sweep(s)\n",
    "else :\n",
    "    PavFOM1 = simu1.FOM(freqvec)\n",
    "    s1 = 'FOM_b1p'\n",
    "    s = s1 + '_' + geometry\n",
    "    freqvec1 = freqvec\n",
    "    store_results(s, freqvec, PavFOM1)"
   ]
  },
  {
   "cell_type": "code",
   "execution_count": null,
   "id": "964e15e2-04b1-45e3-95df-3ca1d94320a2",
   "metadata": {},
   "outputs": [],
   "source": [
    "#print(PavFOM1)"
   ]
  },
  {
   "cell_type": "code",
   "execution_count": null,
   "id": "bb8787b6-4001-4ca7-b4e9-43636c0dfffa",
   "metadata": {},
   "outputs": [],
   "source": [
    "from operators_POO import B2p_beltrami\n",
    "\n",
    "mesh_.set_deg(2)\n",
    "\n",
    "ope2spe   = B2p_beltrami(mesh_)\n",
    "loading   = Loading(mesh_)\n",
    "simu2spe  = Simulation(mesh_, ope2spe, loading)"
   ]
  },
  {
   "cell_type": "code",
   "execution_count": null,
   "id": "7ee26ec2-9489-4e2e-9863-68a899ac9a52",
   "metadata": {},
   "outputs": [],
   "source": [
    "#ope2.import_matrix(freq = 2000)\n",
    "from_data_b2pspe = False\n",
    "if from_data_b2pspe:\n",
    "    s1 = 'FOM_b2pspe'\n",
    "    s  = s1 + '_' + geometry\n",
    "    freqvec2spe, PavFOM2spe = import_frequency_sweep(s)\n",
    "else :\n",
    "    freqvec2spe = np.arange(1000,1001,20)\n",
    "    PavFOM2spe = simu2spe.FOM(freqvec2spe)\n",
    "    s1 = 'FOM_b2pspe'\n",
    "    s  = s1 + '_' + geometry\n",
    "    store_results(s, freqvec2spe, PavFOM2spe)"
   ]
  },
  {
   "cell_type": "code",
   "execution_count": null,
   "id": "d50b0553-e700-4109-923e-676fa32da7ba",
   "metadata": {},
   "outputs": [],
   "source": [
    "print(PavFOM2spe)"
   ]
  },
  {
   "cell_type": "code",
   "execution_count": null,
   "id": "40eaa1fe-a554-4b70-a9b3-c019a524e295",
   "metadata": {},
   "outputs": [],
   "source": [
    "from operators_POO import B2p\n",
    "\n",
    "mesh_.set_deg(2)\n",
    "\n",
    "ope2           = B2p(mesh_)\n",
    "list_coeff_Z_j = ope2.deriv_coeff_Z(0)\n",
    "\n",
    "loading        = Loading(mesh_)\n",
    "list_coeff_F_j = loading.deriv_coeff_F(0)\n",
    "\n",
    "simu2 = Simulation(mesh_, ope2, loading)"
   ]
  },
  {
   "cell_type": "code",
   "execution_count": null,
   "id": "27460075-9998-4eb2-8610-247bb10776bb",
   "metadata": {},
   "outputs": [],
   "source": [
    "#ope2.import_matrix(freq = 2000)\n",
    "if from_data_b2p:\n",
    "    s1 = 'FOM_b2p'\n",
    "    s  = s1 + '_' + geometry\n",
    "    freqvec2, PavFOM2 = import_frequency_sweep(s)\n",
    "else :\n",
    "    freqvec2 = freqvec\n",
    "    PavFOM2 = simu2.FOM(freqvec2)\n",
    "    s1 = 'FOM_b2p'\n",
    "    s  = s1 + '_' + geometry\n",
    "    store_results(s, freqvec2, PavFOM2)"
   ]
  },
  {
   "cell_type": "code",
   "execution_count": null,
   "id": "ec77cf4b-0c17-4492-a5cf-ffd3ffed87d5",
   "metadata": {},
   "outputs": [],
   "source": [
    "print(PavFOM2)"
   ]
  },
  {
   "cell_type": "code",
   "execution_count": null,
   "id": "c8264c13-8401-49d2-9d84-3fb08e4afda2",
   "metadata": {
    "editable": true,
    "slideshow": {
     "slide_type": ""
    },
    "tags": []
   },
   "outputs": [],
   "source": []
  },
  {
   "cell_type": "code",
   "execution_count": null,
   "id": "ca921a3a-fcaf-47f9-9866-7d32913e913d",
   "metadata": {},
   "outputs": [],
   "source": [
    "from operators_POO import B3p\n",
    "\n",
    "mesh_.set_deg(2)\n",
    "\n",
    "ope3    = B3p(mesh_)\n",
    "loading = Loading(mesh_)\n",
    "\n",
    "simu3   = Simulation(mesh_, ope3, loading)\n",
    "freqvec3 = np.arange(1400, 1401, 20)\n",
    "#PavFOM3 = simu3.FOM(freqvec3)"
   ]
  },
  {
   "cell_type": "code",
   "execution_count": null,
   "id": "6d78450f-3c21-4f2c-929d-f5f102f3746b",
   "metadata": {},
   "outputs": [],
   "source": [
    "#ope3.import_matrix(freq = 2000)\n",
    "#print(PavFOM3)"
   ]
  },
  {
   "cell_type": "code",
   "execution_count": null,
   "id": "6c8edd07-ec54-45ff-b696-994319bdb9a7",
   "metadata": {},
   "outputs": [],
   "source": [
    "from operators_POO import plot_analytical_result_sigma\n",
    "\n",
    "fig, ax = plt.subplots(figsize=(16,9))\n",
    "simu1.plot_radiation_factor(ax, freqvec1, PavFOM1, s = 'FOM_b1p')\n",
    "simu2.plot_radiation_factor(ax, freqvec2, PavFOM2,  s = 'FOM_b2p')\n",
    "simu2spe.plot_radiation_factor(ax, freqvec2spe, PavFOM2spe,  s = 'FOM_b2pspe')\n",
    "if comsol_data:\n",
    "    ax.plot(frequency, results, c = 'black', label=r'$\\sigma_{COMSOL}$')\n",
    "    ax.legend()\n",
    "\n",
    "plot_analytical_result = True\n",
    "if plot_analytical_result:\n",
    "    plot_analytical_result_sigma(ax, freqvec, radius)"
   ]
  },
  {
   "cell_type": "code",
   "execution_count": null,
   "id": "00cc6231-a8d6-4214-9e2b-da90346a306f",
   "metadata": {},
   "outputs": [],
   "source": [
    "from operators_POO import least_square_err, compute_analytical_radiation_factor\n",
    "\n",
    "Z_ana = compute_analytical_radiation_factor(freqvec, radius)\n",
    "\n",
    "err_B1p = least_square_err(freqvec, Z_ana.real, freqvec1, simu1.compute_radiation_factor(freqvec1, PavFOM1).real)\n",
    "print(f'For lc = {lc} - L2_err(B1p) = {err_B1p}')\n",
    "\n",
    "err_B2p = least_square_err(freqvec, Z_ana.real, freqvec2, simu2.compute_radiation_factor(freqvec2, PavFOM2).real)\n",
    "print(f'For lc = {lc} - L2_err(B2p) = {err_B2p}')\n",
    "\n",
    "err_B2p_tang = least_square_err(freqvec, Z_ana.real, freqvec2spe, simu2spe.compute_radiation_factor(freqvec2spe, PavFOM2spe).real)\n",
    "print(f'For lc = {lc} - L2_err(err_B2p_tang) = {err_B2p_tang}')"
   ]
  },
  {
   "cell_type": "code",
   "execution_count": null,
   "id": "dd4f19ac-6106-4647-ab2d-26b836e48225",
   "metadata": {},
   "outputs": [],
   "source": []
  },
  {
   "cell_type": "code",
   "execution_count": null,
   "id": "443aee38-3db4-4516-97ec-62fe7d96925f",
   "metadata": {},
   "outputs": [],
   "source": []
  },
  {
   "cell_type": "code",
   "execution_count": null,
   "id": "078dc7d6-49c4-4ca2-bf51-f4738759b420",
   "metadata": {},
   "outputs": [],
   "source": []
  }
 ],
 "metadata": {
  "kernelspec": {
   "display_name": "Python 3 (ipykernel)",
   "language": "python",
   "name": "python3"
  },
  "language_info": {
   "codemirror_mode": {
    "name": "ipython",
    "version": 3
   },
   "file_extension": ".py",
   "mimetype": "text/x-python",
   "name": "python",
   "nbconvert_exporter": "python",
   "pygments_lexer": "ipython3",
   "version": "3.10.6"
  }
 },
 "nbformat": 4,
 "nbformat_minor": 5
}
